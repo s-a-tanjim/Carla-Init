{
 "cells": [
  {
   "cell_type": "code",
   "execution_count": 1,
   "id": "8b6cb416-6981-4852-8054-a2dd9630866f",
   "metadata": {},
   "outputs": [
    {
     "name": "stdout",
     "output_type": "stream",
     "text": [
      "Requirement already satisfied: carla in /opt/carla-simulator/PythonAPI/carla/dist/carla-0.9.13-py3.7-linux-x86_64.egg (0.9.13)\n"
     ]
    }
   ],
   "source": [
    "!pip install carla"
   ]
  },
  {
   "cell_type": "code",
   "execution_count": 1,
   "id": "fb1ad5d3-bcc7-41c8-be32-5aca2b50fd12",
   "metadata": {},
   "outputs": [],
   "source": [
    "import carla\n",
    "import math\n",
    "import random\n",
    "import time\n",
    "import numpy as np\n",
    "import cv2"
   ]
  },
  {
   "cell_type": "markdown",
   "id": "4a5ac0f0-f771-415d-af93-6f21d9f08221",
   "metadata": {},
   "source": [
    "## Connecting with Carla"
   ]
  },
  {
   "cell_type": "code",
   "execution_count": 2,
   "id": "9c3f98a7-cb39-4237-834e-5b98c7b42a15",
   "metadata": {},
   "outputs": [],
   "source": [
    "# Run Carla Server\n",
    "# $ cd /opt/carla-simulator/\n",
    "# $ ./CarlaUE4.sh\n",
    "\n",
    "# Connect to the client and get the world object\n",
    "client = carla.Client('localhost', 2000) \n",
    "world = client.get_world() # Access all objects"
   ]
  },
  {
   "cell_type": "code",
   "execution_count": 3,
   "id": "f62fe27f-e42b-4d72-b4df-9dfdf09bbeed",
   "metadata": {},
   "outputs": [],
   "source": [
    "# Get the blueprint library and the spawn points for the map\n",
    "bp_lib = world.get_blueprint_library() # access all the blueprint\n",
    "spawn_points = world.get_map().get_spawn_points() "
   ]
  },
  {
   "cell_type": "markdown",
   "id": "da2362e7-45e9-4833-a378-afc992da1306",
   "metadata": {},
   "source": [
    "## Configuring Weather"
   ]
  },
  {
   "cell_type": "code",
   "execution_count": 4,
   "id": "c922c6ca-824b-4a8a-ba1d-70c620c94884",
   "metadata": {},
   "outputs": [],
   "source": [
    "weather = carla.WeatherParameters(\n",
    "    cloudiness=99.0,\n",
    "    precipitation=30.0,\n",
    "    sun_altitude_angle=80.0,\n",
    "    rayleigh_scattering_scale=0,\n",
    ")\n",
    "\n",
    "world.set_weather(weather)"
   ]
  },
  {
   "cell_type": "markdown",
   "id": "e4fd0be6-bd7a-492b-9531-c3564a83bd1b",
   "metadata": {},
   "source": [
    "## Setting Vehicle"
   ]
  },
  {
   "cell_type": "code",
   "execution_count": 5,
   "id": "ae166664-e4ca-451f-a438-04a9cd8d3804",
   "metadata": {},
   "outputs": [],
   "source": [
    "# Get the blueprint for the vehicle you want\n",
    "vehicle_bp = bp_lib.find('vehicle.lincoln.mkz_2020') \n",
    "\n",
    "# Try spawning the vehicle at a randomly chosen spawn point\n",
    "vehicle = world.try_spawn_actor(vehicle_bp, random.choice(spawn_points))\n",
    "\n",
    "# Move the spectator behind the vehicle \n",
    "spectator = world.get_spectator() \n",
    "transform = carla.Transform(vehicle.get_transform().transform(carla.Location(x=-4,z=2.5)),vehicle.get_transform().rotation) \n",
    "spectator.set_transform(transform) "
   ]
  },
  {
   "cell_type": "markdown",
   "id": "5216acd7-3d16-400c-b434-1280e004515b",
   "metadata": {},
   "source": [
    "## Adding other traffics"
   ]
  },
  {
   "cell_type": "code",
   "execution_count": 6,
   "id": "a2d6a73e-be4a-4b55-a68a-81d5bdfea3a0",
   "metadata": {},
   "outputs": [],
   "source": [
    "# Add traffic to the simulation\n",
    "for i in range(30): \n",
    "    vehicle_bp = random.choice(bp_lib.filter('vehicle')) \n",
    "    npc = world.try_spawn_actor(vehicle_bp, random.choice(spawn_points)) "
   ]
  },
  {
   "cell_type": "code",
   "execution_count": 7,
   "id": "451c71cd-0818-4ccd-8e44-f962424ddb94",
   "metadata": {},
   "outputs": [],
   "source": [
    "# Set the all vehicles in motion using the Traffic Manager\n",
    "for v in world.get_actors().filter('*vehicle*'): \n",
    "    v.set_autopilot(True)"
   ]
  },
  {
   "cell_type": "markdown",
   "id": "26e61053-45a9-4a49-843e-007bc181bf33",
   "metadata": {},
   "source": [
    "# Sensors"
   ]
  },
  {
   "cell_type": "code",
   "execution_count": 7,
   "id": "0f2c0ce4-1a7f-46e8-90b8-9621aa988bc3",
   "metadata": {},
   "outputs": [
    {
     "name": "stdout",
     "output_type": "stream",
     "text": [
      "sensor.camera.depth\n",
      "sensor.camera.dvs\n",
      "sensor.camera.optical_flow\n",
      "sensor.camera.rgb\n",
      "sensor.camera.semantic_segmentation\n",
      "sensor.camera.instance_segmentation\n"
     ]
    }
   ],
   "source": [
    "for bp in bp_lib.filter('camera'):\n",
    "    print(bp.id)"
   ]
  },
  {
   "cell_type": "markdown",
   "id": "1b871113-583a-479b-b62d-12440f10f39b",
   "metadata": {},
   "source": [
    "## Adding Camera to Vehicle"
   ]
  },
  {
   "cell_type": "code",
   "execution_count": 8,
   "id": "d2089efb-1de7-406f-8961-064993ce05d5",
   "metadata": {},
   "outputs": [],
   "source": [
    "# Spawn an RGB cammera with an offset from the vehicle center\n",
    "camera_init_trans = carla.Transform(carla.Location(z=2))\n",
    "\n",
    "camera_bp = bp_lib.find('sensor.camera.rgb') \n",
    "camera = world.spawn_actor(camera_bp, camera_init_trans, attach_to=vehicle)\n",
    "\n",
    "# spectator.set_transform(camera.get_transform()) "
   ]
  },
  {
   "cell_type": "code",
   "execution_count": 11,
   "id": "c64ed96b-7ac3-4f20-86b6-32c522d5b207",
   "metadata": {},
   "outputs": [],
   "source": [
    "# Start the camera saving data to disk\n",
    "camera.listen(lambda image: image.save_to_disk('out/%06d.png' % image.frame))"
   ]
  },
  {
   "cell_type": "code",
   "execution_count": 12,
   "id": "d0b10884-32c2-4762-9851-385ac99c7ffb",
   "metadata": {},
   "outputs": [],
   "source": [
    "# Stop the camera when we've recorded enough data\n",
    "camera.stop()"
   ]
  },
  {
   "cell_type": "code",
   "execution_count": 9,
   "id": "7cc84b05-9e74-4247-82bb-1013e0f74f7b",
   "metadata": {},
   "outputs": [],
   "source": [
    "# Set Stream Camera Feedback\n",
    "# RGB Camera\n",
    "def rgb_camera_callback(image,data_dict):\n",
    "    data_dict['rgb_image'] = np.reshape(np.copy(image.raw_data), (image.height, image.width, 4))"
   ]
  },
  {
   "cell_type": "code",
   "execution_count": 10,
   "id": "0633ce91-228e-4bdf-a4b7-f980edfff7c7",
   "metadata": {},
   "outputs": [],
   "source": [
    "# Show Stream RGB Camera Feedback\n",
    "image_w = camera_bp.get_attribute('image_size_x').as_int()\n",
    "image_h = camera_bp.get_attribute('image_size_y').as_int()\n",
    "\n",
    "camera_data = {'rgb_image': np.zeros((image_h, image_w, 4))}\n",
    "camera.listen(lambda image: rgb_camera_callback(image, camera_data))\n",
    "\n",
    "cv2.namedWindow('RGB Camera', cv2.WINDOW_AUTOSIZE)\n",
    "cv2.imshow('RGB Camera', camera_data['rgb_image'])\n",
    "cv2.waitKey(1)\n",
    "\n",
    "while True:\n",
    "    cv2.imshow('RGB Camera', camera_data['rgb_image'])\n",
    "    if cv2.waitKey(1)==ord('q'):\n",
    "        break\n",
    "\n",
    "cv2.destroyAllWindows()"
   ]
  }
 ],
 "metadata": {
  "kernelspec": {
   "display_name": "Python 3 (ipykernel)",
   "language": "python",
   "name": "python3"
  },
  "language_info": {
   "codemirror_mode": {
    "name": "ipython",
    "version": 3
   },
   "file_extension": ".py",
   "mimetype": "text/x-python",
   "name": "python",
   "nbconvert_exporter": "python",
   "pygments_lexer": "ipython3",
   "version": "3.8.10"
  }
 },
 "nbformat": 4,
 "nbformat_minor": 5
}
