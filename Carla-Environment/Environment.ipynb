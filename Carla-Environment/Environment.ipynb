{
 "cells": [
  {
   "cell_type": "code",
   "execution_count": 1,
   "id": "b399909e-8fb9-422f-845f-8a4680aad452",
   "metadata": {},
   "outputs": [],
   "source": [
    "import carla\n",
    "import math\n",
    "import random\n",
    "import time\n",
    "import numpy as np\n",
    "import cv2"
   ]
  },
  {
   "cell_type": "code",
   "execution_count": 2,
   "id": "93980b66-03dd-4818-a2ec-31552d0196f4",
   "metadata": {},
   "outputs": [],
   "source": [
    "# Connect to the client and get the world object\n",
    "client = carla.Client('localhost', 2000) \n",
    "world = client.get_world() # Access all objects\n",
    "\n",
    "# Get the blueprint library and the spawn points for the map\n",
    "bp_lib = world.get_blueprint_library() # access all the blueprint\n",
    "spawn_points = world.get_map().get_spawn_points() "
   ]
  },
  {
   "cell_type": "code",
   "execution_count": null,
   "id": "eed9e2a6-f810-4bdb-9b0d-ca66c620d818",
   "metadata": {
    "tags": []
   },
   "outputs": [],
   "source": [
    "# Light\n",
    "lm = world.get_lightmanager()\n",
    "lights = lm.get_all_lights()\n",
    "light = [x for x in lights if x.id==10][0]\n",
    "light\n",
    "for i in lights:\n",
    "    print(i.intensity)\n",
    "    #i.set_intensity(0)"
   ]
  },
  {
   "cell_type": "code",
   "execution_count": 4,
   "id": "9fb8b899-81e5-405c-960d-bc8e78c1b221",
   "metadata": {},
   "outputs": [
    {
     "name": "stdout",
     "output_type": "stream",
     "text": [
      "<class 'carla.libcarla.LightGroup'>\n"
     ]
    }
   ],
   "source": [
    "print(carla.LightGroup)"
   ]
  },
  {
   "cell_type": "code",
   "execution_count": 32,
   "id": "2070f14c-9c14-4768-8173-b7fef02fdb0a",
   "metadata": {
    "tags": []
   },
   "outputs": [],
   "source": [
    "weather = carla.WeatherParameters(\n",
    "    cloudiness=99.0,\n",
    "    precipitation=30.0,\n",
    "    sun_altitude_angle=80.0,\n",
    "    rayleigh_scattering_scale=0,\n",
    " #   scattering_intensity=0\n",
    ")\n",
    "\n",
    "world.set_weather(weather)"
   ]
  },
  {
   "cell_type": "code",
   "execution_count": 10,
   "id": "756d1e42-a9dd-4808-9786-ce8b052654e4",
   "metadata": {},
   "outputs": [],
   "source": [
    "world.set_weather(carla.WeatherParameters.WetCloudySunset)"
   ]
  },
  {
   "cell_type": "code",
   "execution_count": 13,
   "id": "7a0b51f2-b496-45ec-a577-aead850c532a",
   "metadata": {},
   "outputs": [],
   "source": [
    "world.set_weather(carla.WeatherParameters.HardRainSunset)"
   ]
  },
  {
   "cell_type": "code",
   "execution_count": null,
   "id": "08cc2ab7-dfe8-41f3-823b-fcc65248b214",
   "metadata": {},
   "outputs": [],
   "source": []
  }
 ],
 "metadata": {
  "kernelspec": {
   "display_name": "Python 3 (ipykernel)",
   "language": "python",
   "name": "python3"
  },
  "language_info": {
   "codemirror_mode": {
    "name": "ipython",
    "version": 3
   },
   "file_extension": ".py",
   "mimetype": "text/x-python",
   "name": "python",
   "nbconvert_exporter": "python",
   "pygments_lexer": "ipython3",
   "version": "3.8.10"
  }
 },
 "nbformat": 4,
 "nbformat_minor": 5
}
